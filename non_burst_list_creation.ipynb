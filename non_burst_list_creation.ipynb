{
 "cells": [
  {
   "cell_type": "code",
   "execution_count": 1,
   "metadata": {},
   "outputs": [],
   "source": [
    "from burstextractor.burstlist import download_burst_list, process_burst_list\n",
    "from burstextractor.timeutils import extract_time, fix_typos_in_time, fix_24_hour_time, create_datetime, check_valid_date, adjust_year_month\n",
    "from burstextractor.data_utils import explode_instruments_long_clean_instruments, keep_only_type_I_to_VI\n",
    "from spectogram_utils import spec_to_pd_dataframe, plot_spectogram\n",
    "import pandas as pd\n",
    "import numpy as np\n",
    "import datetime\n",
    "import matplotlib.pyplot as plt \n",
    "from radiospectra.sources import CallistoSpectrogram"
   ]
  },
  {
   "cell_type": "code",
   "execution_count": 2,
   "metadata": {},
   "outputs": [],
   "source": [
    "burst_list = pd.read_excel('burst_list.xlsx')"
   ]
  },
  {
   "cell_type": "code",
   "execution_count": 3,
   "metadata": {},
   "outputs": [
    {
     "data": {
      "text/plain": [
       "Australia-ASSA         1876\n",
       "Arecibo-Observatory    1307\n",
       "HUMAIN                 1245\n",
       "GLASGOW                1185\n",
       "ALASKA-COHOE           1168\n",
       "SWISS-Landschlacht     1162\n",
       "ALASKA-HAARP           1045\n",
       "BIR                     956\n",
       "INDIA-UDAIPUR           903\n",
       "INDIA-OOTY              901\n",
       "AUSTRIA-UNIGRAZ         844\n",
       "SWISS-HEITERSWIL        743\n",
       "INDIA-GAURI             731\n",
       "SWISS-MUHEN             552\n",
       "MRO                     489\n",
       "EGYPT-Alexandria        488\n",
       "ALMATY                  421\n",
       "TRIEST                  394\n",
       "GREENLAND               391\n",
       "SOUTHAFRICA-SANSA       356\n",
       "SPAIN-PERALEJOS         346\n",
       "SWISS-IRSOL             342\n",
       "MEXICO-LANCE            320\n",
       "ROSWELL-NM              286\n",
       "DENMARK                 258\n",
       "INDONESIA               255\n",
       "MRT1                    251\n",
       "USA-ARIZONA-ERAU        244\n",
       "MEXART                  221\n",
       "AUSTRIA-OE3FLB          215\n",
       "MEXICO-LANCE-B          202\n",
       "SSRT                    196\n",
       "MEXICO-LANCE-A          194\n",
       "MONGOLIA-UB             184\n",
       "KRIM                    162\n",
       "HURBANOVO               147\n",
       "ALGERIA-CRAAG           119\n",
       "AUSTRIA-MICHELBACH      117\n",
       "KASI                    113\n",
       "GERMANY-DLR             100\n",
       "Malaysia_Banting         96\n",
       "MRT2                     94\n",
       "SPAIN-SIGUENZA           79\n",
       "Malaysia-Banting         54\n",
       "PARAGUAY                 52\n",
       "INPE                     51\n",
       "NORWAY-EGERSUND          49\n",
       "SWISS-HB9SCT             47\n",
       "POLAND-Grotniki          36\n",
       "Name: instruments, dtype: int64"
      ]
     },
     "execution_count": 3,
     "metadata": {},
     "output_type": "execute_result"
    }
   ],
   "source": [
    "burst_list.instruments.value_counts()"
   ]
  },
  {
   "cell_type": "code",
   "execution_count": 4,
   "metadata": {},
   "outputs": [],
   "source": [
    "instruments = ['Australia-ASSA']"
   ]
  },
  {
   "cell_type": "code",
   "execution_count": 5,
   "metadata": {},
   "outputs": [],
   "source": [
    "burst_list_filtered = burst_list[burst_list.instruments.isin(instruments)]"
   ]
  },
  {
   "cell_type": "code",
   "execution_count": 9,
   "metadata": {},
   "outputs": [],
   "source": [
    "min_time_flare = burst_list_filtered.datetime_start.dt.time.min()"
   ]
  },
  {
   "cell_type": "code",
   "execution_count": 13,
   "metadata": {},
   "outputs": [],
   "source": [
    "max_time_flare = burst_list_filtered.datetime_end.dt.time.max()"
   ]
  },
  {
   "cell_type": "code",
   "execution_count": 17,
   "metadata": {},
   "outputs": [
    {
     "data": {
      "text/plain": [
       "Timestamp('2022-04-27 03:27:00')"
      ]
     },
     "execution_count": 17,
     "metadata": {},
     "output_type": "execute_result"
    }
   ],
   "source": [
    "burst_list_filtered.datetime_end.median()"
   ]
  },
  {
   "cell_type": "code",
   "execution_count": 10,
   "metadata": {},
   "outputs": [
    {
     "data": {
      "text/plain": [
       "datetime.time(0, 0)"
      ]
     },
     "execution_count": 10,
     "metadata": {},
     "output_type": "execute_result"
    }
   ],
   "source": [
    "MIN_TIME_TO_FLARE = datetime.timedelta(minutes=30)"
   ]
  },
  {
   "cell_type": "code",
   "execution_count": 45,
   "metadata": {},
   "outputs": [],
   "source": [
    "def generate_random_date(min_date, max_date):\n",
    "    \"\"\"\n",
    "    This function will generate a random datetime between two datetime\n",
    "    objects.\n",
    "    \"\"\"\n",
    "    delta = max_date - min_date\n",
    "    int_delta = (delta.days * 24 * 60 * 60) + delta.seconds\n",
    "    random_second = np.random.randint(int_delta)\n",
    "    return min_date + datetime.timedelta(seconds=random_second)"
   ]
  },
  {
   "cell_type": "code",
   "execution_count": 60,
   "metadata": {},
   "outputs": [
    {
     "data": {
      "text/html": [
       "<div>\n",
       "<style scoped>\n",
       "    .dataframe tbody tr th:only-of-type {\n",
       "        vertical-align: middle;\n",
       "    }\n",
       "\n",
       "    .dataframe tbody tr th {\n",
       "        vertical-align: top;\n",
       "    }\n",
       "\n",
       "    .dataframe thead th {\n",
       "        text-align: right;\n",
       "    }\n",
       "</style>\n",
       "<table border=\"1\" class=\"dataframe\">\n",
       "  <thead>\n",
       "    <tr style=\"text-align: right;\">\n",
       "      <th></th>\n",
       "      <th>date</th>\n",
       "      <th>time</th>\n",
       "      <th>type</th>\n",
       "      <th>instruments</th>\n",
       "      <th>time_start</th>\n",
       "      <th>time_end</th>\n",
       "      <th>date_start</th>\n",
       "      <th>date_end</th>\n",
       "      <th>datetime_start</th>\n",
       "      <th>datetime_end</th>\n",
       "    </tr>\n",
       "  </thead>\n",
       "  <tbody>\n",
       "    <tr>\n",
       "      <th>0</th>\n",
       "      <td>20210119</td>\n",
       "      <td>02:42-02:42</td>\n",
       "      <td>III</td>\n",
       "      <td>Australia-ASSA</td>\n",
       "      <td>02:42</td>\n",
       "      <td>02:42</td>\n",
       "      <td>20210119</td>\n",
       "      <td>20210119</td>\n",
       "      <td>2021-01-19 02:42:00</td>\n",
       "      <td>2021-01-19 02:42:00</td>\n",
       "    </tr>\n",
       "    <tr>\n",
       "      <th>7</th>\n",
       "      <td>20210127</td>\n",
       "      <td>04:32-04:32</td>\n",
       "      <td>III</td>\n",
       "      <td>Australia-ASSA</td>\n",
       "      <td>04:32</td>\n",
       "      <td>04:32</td>\n",
       "      <td>20210127</td>\n",
       "      <td>20210127</td>\n",
       "      <td>2021-01-27 04:32:00</td>\n",
       "      <td>2021-01-27 04:32:00</td>\n",
       "    </tr>\n",
       "    <tr>\n",
       "      <th>89</th>\n",
       "      <td>20210419</td>\n",
       "      <td>06:55-06:57</td>\n",
       "      <td>III</td>\n",
       "      <td>Australia-ASSA</td>\n",
       "      <td>06:55</td>\n",
       "      <td>06:57</td>\n",
       "      <td>20210419</td>\n",
       "      <td>20210419</td>\n",
       "      <td>2021-04-19 06:55:00</td>\n",
       "      <td>2021-04-19 06:57:00</td>\n",
       "    </tr>\n",
       "    <tr>\n",
       "      <th>108</th>\n",
       "      <td>20210419</td>\n",
       "      <td>23:39-23:42</td>\n",
       "      <td>II</td>\n",
       "      <td>Australia-ASSA</td>\n",
       "      <td>23:39</td>\n",
       "      <td>23:42</td>\n",
       "      <td>20210419</td>\n",
       "      <td>20210419</td>\n",
       "      <td>2021-04-19 23:39:00</td>\n",
       "      <td>2021-04-19 23:42:00</td>\n",
       "    </tr>\n",
       "    <tr>\n",
       "      <th>109</th>\n",
       "      <td>20210419</td>\n",
       "      <td>23:39-23:43</td>\n",
       "      <td>III</td>\n",
       "      <td>Australia-ASSA</td>\n",
       "      <td>23:39</td>\n",
       "      <td>23:43</td>\n",
       "      <td>20210419</td>\n",
       "      <td>20210419</td>\n",
       "      <td>2021-04-19 23:39:00</td>\n",
       "      <td>2021-04-19 23:43:00</td>\n",
       "    </tr>\n",
       "    <tr>\n",
       "      <th>...</th>\n",
       "      <td>...</td>\n",
       "      <td>...</td>\n",
       "      <td>...</td>\n",
       "      <td>...</td>\n",
       "      <td>...</td>\n",
       "      <td>...</td>\n",
       "      <td>...</td>\n",
       "      <td>...</td>\n",
       "      <td>...</td>\n",
       "      <td>...</td>\n",
       "    </tr>\n",
       "    <tr>\n",
       "      <th>21961</th>\n",
       "      <td>20230111</td>\n",
       "      <td>23:08-23:09</td>\n",
       "      <td>III</td>\n",
       "      <td>Australia-ASSA</td>\n",
       "      <td>23:08</td>\n",
       "      <td>23:09</td>\n",
       "      <td>20230111</td>\n",
       "      <td>20230111</td>\n",
       "      <td>2023-01-11 23:08:00</td>\n",
       "      <td>2023-01-11 23:09:00</td>\n",
       "    </tr>\n",
       "    <tr>\n",
       "      <th>21962</th>\n",
       "      <td>20230111</td>\n",
       "      <td>23:43-23:43</td>\n",
       "      <td>III</td>\n",
       "      <td>Australia-ASSA</td>\n",
       "      <td>23:43</td>\n",
       "      <td>23:43</td>\n",
       "      <td>20230111</td>\n",
       "      <td>20230111</td>\n",
       "      <td>2023-01-11 23:43:00</td>\n",
       "      <td>2023-01-11 23:43:00</td>\n",
       "    </tr>\n",
       "    <tr>\n",
       "      <th>21963</th>\n",
       "      <td>20230112</td>\n",
       "      <td>00:04-00:04</td>\n",
       "      <td>III</td>\n",
       "      <td>Australia-ASSA</td>\n",
       "      <td>00:04</td>\n",
       "      <td>00:04</td>\n",
       "      <td>20230112</td>\n",
       "      <td>20230112</td>\n",
       "      <td>2023-01-12 00:04:00</td>\n",
       "      <td>2023-01-12 00:04:00</td>\n",
       "    </tr>\n",
       "    <tr>\n",
       "      <th>21964</th>\n",
       "      <td>20230112</td>\n",
       "      <td>00:55-01:00</td>\n",
       "      <td>III</td>\n",
       "      <td>Australia-ASSA</td>\n",
       "      <td>00:55</td>\n",
       "      <td>01:00</td>\n",
       "      <td>20230112</td>\n",
       "      <td>20230112</td>\n",
       "      <td>2023-01-12 00:55:00</td>\n",
       "      <td>2023-01-12 01:00:00</td>\n",
       "    </tr>\n",
       "    <tr>\n",
       "      <th>21967</th>\n",
       "      <td>20230112</td>\n",
       "      <td>05:30-05:30</td>\n",
       "      <td>III</td>\n",
       "      <td>Australia-ASSA</td>\n",
       "      <td>05:30</td>\n",
       "      <td>05:30</td>\n",
       "      <td>20230112</td>\n",
       "      <td>20230112</td>\n",
       "      <td>2023-01-12 05:30:00</td>\n",
       "      <td>2023-01-12 05:30:00</td>\n",
       "    </tr>\n",
       "  </tbody>\n",
       "</table>\n",
       "<p>1876 rows × 10 columns</p>\n",
       "</div>"
      ],
      "text/plain": [
       "           date         time type     instruments time_start time_end  \\\n",
       "0      20210119  02:42-02:42  III  Australia-ASSA      02:42    02:42   \n",
       "7      20210127  04:32-04:32  III  Australia-ASSA      04:32    04:32   \n",
       "89     20210419  06:55-06:57  III  Australia-ASSA      06:55    06:57   \n",
       "108    20210419  23:39-23:42   II  Australia-ASSA      23:39    23:42   \n",
       "109    20210419  23:39-23:43  III  Australia-ASSA      23:39    23:43   \n",
       "...         ...          ...  ...             ...        ...      ...   \n",
       "21961  20230111  23:08-23:09  III  Australia-ASSA      23:08    23:09   \n",
       "21962  20230111  23:43-23:43  III  Australia-ASSA      23:43    23:43   \n",
       "21963  20230112  00:04-00:04  III  Australia-ASSA      00:04    00:04   \n",
       "21964  20230112  00:55-01:00  III  Australia-ASSA      00:55    01:00   \n",
       "21967  20230112  05:30-05:30  III  Australia-ASSA      05:30    05:30   \n",
       "\n",
       "       date_start  date_end      datetime_start        datetime_end  \n",
       "0        20210119  20210119 2021-01-19 02:42:00 2021-01-19 02:42:00  \n",
       "7        20210127  20210127 2021-01-27 04:32:00 2021-01-27 04:32:00  \n",
       "89       20210419  20210419 2021-04-19 06:55:00 2021-04-19 06:57:00  \n",
       "108      20210419  20210419 2021-04-19 23:39:00 2021-04-19 23:42:00  \n",
       "109      20210419  20210419 2021-04-19 23:39:00 2021-04-19 23:43:00  \n",
       "...           ...       ...                 ...                 ...  \n",
       "21961    20230111  20230111 2023-01-11 23:08:00 2023-01-11 23:09:00  \n",
       "21962    20230111  20230111 2023-01-11 23:43:00 2023-01-11 23:43:00  \n",
       "21963    20230112  20230112 2023-01-12 00:04:00 2023-01-12 00:04:00  \n",
       "21964    20230112  20230112 2023-01-12 00:55:00 2023-01-12 01:00:00  \n",
       "21967    20230112  20230112 2023-01-12 05:30:00 2023-01-12 05:30:00  \n",
       "\n",
       "[1876 rows x 10 columns]"
      ]
     },
     "execution_count": 60,
     "metadata": {},
     "output_type": "execute_result"
    }
   ],
   "source": [
    "burst_list_filtered"
   ]
  },
  {
   "cell_type": "code",
   "execution_count": 71,
   "metadata": {},
   "outputs": [],
   "source": [
    "non_burst_list = []\n",
    "while len(non_burst_list) <= 1876:\n",
    "    for instrument in instruments:\n",
    "        df = pd.DataFrame()\n",
    "        burst_list_filtered = burst_list[burst_list.instruments == instrument]\n",
    "        df['datetime_start'] = [generate_random_date(burst_list_filtered.datetime_start.min(), burst_list_filtered.datetime_end.max())]\n",
    "        df['instruments'] = [instrument]\n",
    "        non_burst_list.append(df)\n",
    "    \n",
    "non_burst_list = pd.concat(non_burst_list)\n",
    "non_burst_list.reset_index(inplace=True, drop=True)"
   ]
  },
  {
   "cell_type": "code",
   "execution_count": 72,
   "metadata": {},
   "outputs": [
    {
     "data": {
      "text/html": [
       "<div>\n",
       "<style scoped>\n",
       "    .dataframe tbody tr th:only-of-type {\n",
       "        vertical-align: middle;\n",
       "    }\n",
       "\n",
       "    .dataframe tbody tr th {\n",
       "        vertical-align: top;\n",
       "    }\n",
       "\n",
       "    .dataframe thead th {\n",
       "        text-align: right;\n",
       "    }\n",
       "</style>\n",
       "<table border=\"1\" class=\"dataframe\">\n",
       "  <thead>\n",
       "    <tr style=\"text-align: right;\">\n",
       "      <th></th>\n",
       "      <th>datetime_start</th>\n",
       "      <th>instruments</th>\n",
       "    </tr>\n",
       "  </thead>\n",
       "  <tbody>\n",
       "    <tr>\n",
       "      <th>0</th>\n",
       "      <td>2022-10-26 01:47:55</td>\n",
       "      <td>Australia-ASSA</td>\n",
       "    </tr>\n",
       "    <tr>\n",
       "      <th>1</th>\n",
       "      <td>2022-11-13 17:42:04</td>\n",
       "      <td>Australia-ASSA</td>\n",
       "    </tr>\n",
       "    <tr>\n",
       "      <th>2</th>\n",
       "      <td>2022-05-10 17:58:29</td>\n",
       "      <td>Australia-ASSA</td>\n",
       "    </tr>\n",
       "    <tr>\n",
       "      <th>3</th>\n",
       "      <td>2022-12-01 21:30:56</td>\n",
       "      <td>Australia-ASSA</td>\n",
       "    </tr>\n",
       "    <tr>\n",
       "      <th>4</th>\n",
       "      <td>2021-12-05 08:31:05</td>\n",
       "      <td>Australia-ASSA</td>\n",
       "    </tr>\n",
       "    <tr>\n",
       "      <th>...</th>\n",
       "      <td>...</td>\n",
       "      <td>...</td>\n",
       "    </tr>\n",
       "    <tr>\n",
       "      <th>1872</th>\n",
       "      <td>2021-12-02 17:02:59</td>\n",
       "      <td>Australia-ASSA</td>\n",
       "    </tr>\n",
       "    <tr>\n",
       "      <th>1873</th>\n",
       "      <td>2022-06-04 16:24:08</td>\n",
       "      <td>Australia-ASSA</td>\n",
       "    </tr>\n",
       "    <tr>\n",
       "      <th>1874</th>\n",
       "      <td>2021-03-07 08:34:32</td>\n",
       "      <td>Australia-ASSA</td>\n",
       "    </tr>\n",
       "    <tr>\n",
       "      <th>1875</th>\n",
       "      <td>2022-02-19 01:48:42</td>\n",
       "      <td>Australia-ASSA</td>\n",
       "    </tr>\n",
       "    <tr>\n",
       "      <th>1876</th>\n",
       "      <td>2021-09-02 15:24:01</td>\n",
       "      <td>Australia-ASSA</td>\n",
       "    </tr>\n",
       "  </tbody>\n",
       "</table>\n",
       "<p>1877 rows × 2 columns</p>\n",
       "</div>"
      ],
      "text/plain": [
       "          datetime_start     instruments\n",
       "0    2022-10-26 01:47:55  Australia-ASSA\n",
       "1    2022-11-13 17:42:04  Australia-ASSA\n",
       "2    2022-05-10 17:58:29  Australia-ASSA\n",
       "3    2022-12-01 21:30:56  Australia-ASSA\n",
       "4    2021-12-05 08:31:05  Australia-ASSA\n",
       "...                  ...             ...\n",
       "1872 2021-12-02 17:02:59  Australia-ASSA\n",
       "1873 2022-06-04 16:24:08  Australia-ASSA\n",
       "1874 2021-03-07 08:34:32  Australia-ASSA\n",
       "1875 2022-02-19 01:48:42  Australia-ASSA\n",
       "1876 2021-09-02 15:24:01  Australia-ASSA\n",
       "\n",
       "[1877 rows x 2 columns]"
      ]
     },
     "execution_count": 72,
     "metadata": {},
     "output_type": "execute_result"
    }
   ],
   "source": [
    "non_burst_list"
   ]
  },
  {
   "cell_type": "code",
   "execution_count": 73,
   "metadata": {},
   "outputs": [],
   "source": [
    "non_burst_list.to_excel('non_burst_list.xlsx')"
   ]
  },
  {
   "cell_type": "markdown",
   "metadata": {},
   "source": []
  },
  {
   "cell_type": "code",
   "execution_count": null,
   "metadata": {},
   "outputs": [],
   "source": []
  }
 ],
 "metadata": {
  "kernelspec": {
   "display_name": "Python 3",
   "language": "python",
   "name": "python3"
  },
  "language_info": {
   "codemirror_mode": {
    "name": "ipython",
    "version": 3
   },
   "file_extension": ".py",
   "mimetype": "text/x-python",
   "name": "python",
   "nbconvert_exporter": "python",
   "pygments_lexer": "ipython3",
   "version": "3.11.0"
  },
  "orig_nbformat": 4,
  "vscode": {
   "interpreter": {
    "hash": "270c619ac4b30abaf95e1532c8fb50c49779abcd52e226f5f0104f1f870696ce"
   }
  }
 },
 "nbformat": 4,
 "nbformat_minor": 2
}
