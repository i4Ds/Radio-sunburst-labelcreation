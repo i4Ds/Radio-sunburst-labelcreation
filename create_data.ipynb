{
 "cells": [
  {
   "cell_type": "code",
   "execution_count": 1,
   "metadata": {},
   "outputs": [],
   "source": [
    "from ecallisto_ng.data_download.downloader import get_ecallisto_data\n",
    "from ecallisto_ng.burst_list.utils import load_burst_list\n",
    "from datetime import timedelta\n",
    "from PIL import Image\n",
    "import random\n",
    "import os"
   ]
  },
  {
   "cell_type": "code",
   "execution_count": 2,
   "metadata": {},
   "outputs": [
    {
     "name": "stdout",
     "output_type": "stream",
     "text": [
      "Random Duration between 0 and 7 minutes: 0:05:00\n"
     ]
    }
   ],
   "source": [
    "def random_duration(min_start, min_end):\n",
    "    \"\"\"\n",
    "    Generate a random duration between a specified range in minutes.\n",
    "\n",
    "    Parameters:\n",
    "    min_start (int): The start of the range in minutes.\n",
    "    min_end (int): The end of the range in minutes.\n",
    "\n",
    "    Returns:\n",
    "    datetime.timedelta: A timedelta object representing the duration.\n",
    "    \"\"\"\n",
    "    # Generate a random duration in minutes (including fractions) within the specified range\n",
    "    total_minutes = random.randint(min_start, min_end)\n",
    "\n",
    "    return timedelta(minutes=total_minutes)\n",
    "\n",
    "def save_image(df, path):\n",
    "    \"\"\"\n",
    "    Save an image to a file.\n",
    "\n",
    "    Parameters:\n",
    "    df (pandas.DataFrame): The dataframe containing the image data.\n",
    "    path (str): The path to save the image to.\n",
    "    \"\"\"\n",
    "    # Get the image data from the dataframe\n",
    "    image_data = df.values\n",
    "\n",
    "    # Convert the image data to a PIL Image\n",
    "    image = Image.fromarray(image_data)\n",
    "\n",
    "    # Save the image to the specified path\n",
    "    image.save(path)\n",
    "\n",
    "# Example usage\n",
    "duration = random_duration(3, 7)\n",
    "print(\"Random Duration between 0 and 7 minutes:\", duration)\n"
   ]
  },
  {
   "cell_type": "code",
   "execution_count": 3,
   "metadata": {},
   "outputs": [],
   "source": [
    "burst_list = load_burst_list()"
   ]
  },
  {
   "cell_type": "markdown",
   "metadata": {},
   "source": [
    "# Some Filtering for specific instruments"
   ]
  },
  {
   "cell_type": "code",
   "execution_count": 4,
   "metadata": {},
   "outputs": [],
   "source": [
    "instruments = ['Australia-ASSA_02']\n",
    "burst_generated = 0"
   ]
  },
  {
   "cell_type": "code",
   "execution_count": 5,
   "metadata": {},
   "outputs": [],
   "source": [
    "burst_list = burst_list[burst_list['instruments'].isin([x.split('_')[0] for x in instruments])] # Burstliste hat nur der Ort der Antenna, aber nicht die ID, darum #pythonmagic"
   ]
  },
  {
   "cell_type": "code",
   "execution_count": 6,
   "metadata": {},
   "outputs": [],
   "source": [
    "FOLDER = 'data'\n",
    "RESOLUTION = (256, 256) "
   ]
  },
  {
   "cell_type": "code",
   "execution_count": 7,
   "metadata": {},
   "outputs": [
    {
     "data": {
      "text/plain": [
       "datetime.timedelta(seconds=3, microseconds=515625)"
      ]
     },
     "execution_count": 7,
     "metadata": {},
     "output_type": "execute_result"
    }
   ],
   "source": [
    "resample_delta = timedelta(minutes=15) / RESOLUTION[0] # Ist nicht perfekt, aber geht\n",
    "resample_delta"
   ]
  },
  {
   "cell_type": "code",
   "execution_count": null,
   "metadata": {},
   "outputs": [],
   "source": [
    "for i, row in burst_list.iterrows():\n",
    "    datetime_start = row['datetime_start'] - random_duration(0, 11)\n",
    "    end_time = datetime_start + timedelta(minutes=15)\n",
    "    dfs = get_ecallisto_data(datetime_start, end_time, instrument_name=row['instruments'])\n",
    "    for _, df in dfs.items():\n",
    "        try:\n",
    "            instrument = df.attrs['FULLNAME']\n",
    "            if instrument not in instruments:\n",
    "                print(instruments)\n",
    "                continue\n",
    "            # Resample\n",
    "            df = df.resample(resample_delta).max()\n",
    "            # Maybe keep only good frequencies?\n",
    "            # Background sub?\n",
    "            ## Path to save the image to\n",
    "            # It's FOLDER / instrument / burst type / datetime_start.png\n",
    "            path = os.path.join(FOLDER, instrument, str(row['type']), row['datetime_start'].strftime('%Y-%m-%d_%H-%M-%S') + '.png')\n",
    "            os.makedirs(os.path.dirname(path), exist_ok=True)\n",
    "            save_image(df.T, path)\n",
    "            burst_generated += 1\n",
    "        except Exception as e:\n",
    "            print(e)\n",
    "            print(row['datetime_start'])\n",
    "            print(row['datetime_end'])\n",
    "            print(row['instruments'])\n",
    "            print(instrument)"
   ]
  },
  {
   "cell_type": "markdown",
   "metadata": {},
   "source": [
    "## Non Bursts\n",
    "Machen wir ähnlich, aber halt andersrum."
   ]
  },
  {
   "cell_type": "code",
   "execution_count": null,
   "metadata": {},
   "outputs": [],
   "source": [
    "non_burst_generated = 0\n",
    "burst_non_burst_ratio = 5 # 5: There are 5x more non bust than burst images."
   ]
  },
  {
   "cell_type": "code",
   "execution_count": 11,
   "metadata": {},
   "outputs": [],
   "source": [
    "def return_random_datetime_between(start_datetime, end_datetime):\n",
    "    \"\"\"\n",
    "    Generate a random datetime between two specified datetimes.\n",
    "\n",
    "    Parameters:\n",
    "    start_datetime (datetime.datetime): The start of the range.\n",
    "    end_datetime (datetime.datetime): The end of the range.\n",
    "\n",
    "    Returns:\n",
    "    datetime.datetime: A random datetime between the two specified datetimes.\n",
    "    \"\"\"\n",
    "    # Calculate the total number of seconds between the two datetimes\n",
    "    total_seconds = (end_datetime - start_datetime).total_seconds()\n",
    "\n",
    "    # Generate a random number of seconds within the specified range\n",
    "    random_seconds = random.randint(0, total_seconds)\n",
    "\n",
    "    # Return the start datetime plus the random number of seconds\n",
    "    # Rounded to minutes\n",
    "    return (start_datetime + timedelta(seconds=random_seconds)).replace(second=0, microsecond=0)"
   ]
  },
  {
   "cell_type": "code",
   "execution_count": 12,
   "metadata": {},
   "outputs": [
    {
     "name": "stdout",
     "output_type": "stream",
     "text": [
      "Start Datetime: 2021-01-19 02:42:00\n",
      "End Datetime: 2023-10-31 23:36:00\n"
     ]
    }
   ],
   "source": [
    "min_datetime, max_datetime = burst_list['datetime_start'].min(), burst_list['datetime_start'].max()\n",
    "print(\"Start Datetime:\", min_datetime)\n",
    "print(\"End Datetime:\", max_datetime)"
   ]
  },
  {
   "cell_type": "code",
   "execution_count": 16,
   "metadata": {},
   "outputs": [
    {
     "name": "stdout",
     "output_type": "stream",
     "text": [
      "No files found for Australia-ASSA_02 between 2022-06-23 15:02:00 and 2022-06-23 15:17:00.\n",
      "No files found for Australia-ASSA_02 between 2021-11-27 08:52:00 and 2021-11-27 09:07:00.\n",
      "No files found for Australia-ASSA_02 between 2021-10-12 14:35:00 and 2021-10-12 14:50:00.\n",
      "No files found for Australia-ASSA_02 between 2022-09-11 13:57:00 and 2022-09-11 14:12:00.\n"
     ]
    },
    {
     "name": "stderr",
     "output_type": "stream",
     "text": [
      "Downloading and processing files: 100%|██████████| 3/3 [00:00<00:00,  8.90it/s]\n"
     ]
    },
    {
     "name": "stdout",
     "output_type": "stream",
     "text": [
      "No files found for Australia-ASSA_02 between 2023-01-09 21:49:00 and 2023-01-09 22:04:00.\n",
      "No files found for Australia-ASSA_02 between 2022-09-02 20:14:00 and 2022-09-02 20:29:00.\n",
      "No files found for Australia-ASSA_02 between 2022-01-25 09:54:00 and 2022-01-25 10:09:00.\n",
      "No files found for Australia-ASSA_02 between 2023-07-12 03:20:00 and 2023-07-12 03:35:00.\n",
      "No files found for Australia-ASSA_02 between 2022-12-12 23:14:00 and 2022-12-12 23:29:00.\n",
      "No files found for Australia-ASSA_02 between 2022-06-21 18:30:00 and 2022-06-21 18:45:00.\n",
      "No files found for Australia-ASSA_02 between 2022-10-27 17:11:00 and 2022-10-27 17:26:00.\n",
      "No files found for Australia-ASSA_02 between 2022-04-13 01:37:00 and 2022-04-13 01:52:00.\n",
      "No files found for Australia-ASSA_02 between 2023-07-27 21:31:00 and 2023-07-27 21:46:00.\n",
      "No files found for Australia-ASSA_02 between 2021-06-07 12:14:00 and 2021-06-07 12:29:00.\n",
      "No files found for Australia-ASSA_02 between 2023-03-18 05:51:00 and 2023-03-18 06:06:00.\n"
     ]
    },
    {
     "name": "stderr",
     "output_type": "stream",
     "text": [
      "Downloading and processing files: 100%|██████████| 3/3 [00:00<00:00,  8.65it/s]\n"
     ]
    },
    {
     "name": "stdout",
     "output_type": "stream",
     "text": [
      "No files found for Australia-ASSA_02 between 2023-04-24 12:46:00 and 2023-04-24 13:01:00.\n",
      "No files found for Australia-ASSA_02 between 2023-08-27 06:18:00 and 2023-08-27 06:33:00.\n",
      "No files found for Australia-ASSA_02 between 2022-07-24 14:51:00 and 2022-07-24 15:06:00.\n",
      "No files found for Australia-ASSA_02 between 2022-12-08 21:19:00 and 2022-12-08 21:34:00.\n"
     ]
    },
    {
     "name": "stderr",
     "output_type": "stream",
     "text": [
      "Downloading and processing files: 100%|██████████| 3/3 [00:00<00:00,  8.20it/s]\n"
     ]
    },
    {
     "name": "stdout",
     "output_type": "stream",
     "text": [
      "No files found for Australia-ASSA_02 between 2022-10-01 07:36:00 and 2022-10-01 07:51:00.\n",
      "No files found for Australia-ASSA_02 between 2022-08-18 01:26:00 and 2022-08-18 01:41:00.\n"
     ]
    },
    {
     "ename": "KeyboardInterrupt",
     "evalue": "",
     "output_type": "error",
     "traceback": [
      "\u001b[0;31m---------------------------------------------------------------------------\u001b[0m",
      "\u001b[0;31mKeyboardInterrupt\u001b[0m                         Traceback (most recent call last)",
      "\u001b[1;32m/home/kenfus/Radio-sunburst-labelcreation/create_data.ipynb Cell 13\u001b[0m line \u001b[0;36m1\n\u001b[1;32m     <a href='vscode-notebook-cell://wsl%2Bubuntu/home/kenfus/Radio-sunburst-labelcreation/create_data.ipynb#X14sdnNjb2RlLXJlbW90ZQ%3D%3D?line=10'>11</a>\u001b[0m end_datetime \u001b[39m=\u001b[39m start_datetime \u001b[39m+\u001b[39m timedelta(minutes\u001b[39m=\u001b[39m\u001b[39m15\u001b[39m)\n\u001b[1;32m     <a href='vscode-notebook-cell://wsl%2Bubuntu/home/kenfus/Radio-sunburst-labelcreation/create_data.ipynb#X14sdnNjb2RlLXJlbW90ZQ%3D%3D?line=11'>12</a>\u001b[0m \u001b[39mfor\u001b[39;00m instrument \u001b[39min\u001b[39;00m instruments:\n\u001b[0;32m---> <a href='vscode-notebook-cell://wsl%2Bubuntu/home/kenfus/Radio-sunburst-labelcreation/create_data.ipynb#X14sdnNjb2RlLXJlbW90ZQ%3D%3D?line=12'>13</a>\u001b[0m     dfs \u001b[39m=\u001b[39m get_ecallisto_data(start_datetime, end_datetime, instrument_name\u001b[39m=\u001b[39;49minstrument)\n\u001b[1;32m     <a href='vscode-notebook-cell://wsl%2Bubuntu/home/kenfus/Radio-sunburst-labelcreation/create_data.ipynb#X14sdnNjb2RlLXJlbW90ZQ%3D%3D?line=13'>14</a>\u001b[0m     \u001b[39mfor\u001b[39;00m _, df \u001b[39min\u001b[39;00m dfs\u001b[39m.\u001b[39mitems():\n\u001b[1;32m     <a href='vscode-notebook-cell://wsl%2Bubuntu/home/kenfus/Radio-sunburst-labelcreation/create_data.ipynb#X14sdnNjb2RlLXJlbW90ZQ%3D%3D?line=14'>15</a>\u001b[0m         \u001b[39mtry\u001b[39;00m:\n",
      "File \u001b[0;32m~/miniconda3/envs/burst_list_creation/lib/python3.9/site-packages/ecallisto_ng/data_download/downloader.py:65\u001b[0m, in \u001b[0;36mget_ecallisto_data\u001b[0;34m(start_datetime, end_datetime, instrument_name, verbose, freq_start, freq_end, download_from_local)\u001b[0m\n\u001b[1;32m     27\u001b[0m \u001b[39mdef\u001b[39;00m \u001b[39mget_ecallisto_data\u001b[39m(\n\u001b[1;32m     28\u001b[0m     start_datetime,\n\u001b[1;32m     29\u001b[0m     end_datetime,\n\u001b[0;32m   (...)\u001b[0m\n\u001b[1;32m     34\u001b[0m     download_from_local\u001b[39m=\u001b[39m\u001b[39mFalse\u001b[39;00m,\n\u001b[1;32m     35\u001b[0m ):\n\u001b[1;32m     36\u001b[0m \u001b[39m    \u001b[39m\u001b[39m\"\"\"\u001b[39;00m\n\u001b[1;32m     37\u001b[0m \u001b[39m    Get the e-Callisto data within a date range and optional instrument regex pattern.\u001b[39;00m\n\u001b[1;32m     38\u001b[0m \u001b[39m    For big requests, it is recommended to use the generator function `get_ecallisto_data_generator`,\u001b[39;00m\n\u001b[0;32m   (...)\u001b[0m\n\u001b[1;32m     63\u001b[0m \u001b[39m        Dictionary of instrument names and their corresponding dataframes.\u001b[39;00m\n\u001b[1;32m     64\u001b[0m \u001b[39m    \"\"\"\u001b[39;00m\n\u001b[0;32m---> 65\u001b[0m     file_urls \u001b[39m=\u001b[39m get_remote_files_url(start_datetime, end_datetime, instrument_name)\n\u001b[1;32m     66\u001b[0m     \u001b[39mif\u001b[39;00m \u001b[39mnot\u001b[39;00m file_urls:\n\u001b[1;32m     67\u001b[0m         \u001b[39mprint\u001b[39m(\n\u001b[1;32m     68\u001b[0m             \u001b[39mf\u001b[39m\u001b[39m\"\u001b[39m\u001b[39mNo files found for \u001b[39m\u001b[39m{\u001b[39;00minstrument_name\u001b[39m}\u001b[39;00m\u001b[39m between \u001b[39m\u001b[39m{\u001b[39;00mstart_datetime\u001b[39m}\u001b[39;00m\u001b[39m and \u001b[39m\u001b[39m{\u001b[39;00mend_datetime\u001b[39m}\u001b[39;00m\u001b[39m.\u001b[39m\u001b[39m\"\u001b[39m\n\u001b[1;32m     69\u001b[0m         )\n",
      "File \u001b[0;32m~/miniconda3/envs/burst_list_creation/lib/python3.9/site-packages/ecallisto_ng/data_download/downloader.py:318\u001b[0m, in \u001b[0;36mget_remote_files_url\u001b[0;34m(start_date, end_date, instrument_name, base_url)\u001b[0m\n\u001b[1;32m    311\u001b[0m date_urls \u001b[39m=\u001b[39m [\n\u001b[1;32m    312\u001b[0m     \u001b[39mf\u001b[39m\u001b[39m\"\u001b[39m\u001b[39m{\u001b[39;00mbase_url\u001b[39m}\u001b[39;00m\u001b[39m/\u001b[39m\u001b[39m{\u001b[39;00mdate\u001b[39m.\u001b[39myear\u001b[39m}\u001b[39;00m\u001b[39m/\u001b[39m\u001b[39m{\u001b[39;00m\u001b[39mstr\u001b[39m(date\u001b[39m.\u001b[39mmonth)\u001b[39m.\u001b[39mzfill(\u001b[39m2\u001b[39m)\u001b[39m}\u001b[39;00m\u001b[39m/\u001b[39m\u001b[39m{\u001b[39;00m\u001b[39mstr\u001b[39m(date\u001b[39m.\u001b[39mday)\u001b[39m.\u001b[39mzfill(\u001b[39m2\u001b[39m)\u001b[39m}\u001b[39;00m\u001b[39m/\u001b[39m\u001b[39m\"\u001b[39m\n\u001b[1;32m    313\u001b[0m     \u001b[39mfor\u001b[39;00m date \u001b[39min\u001b[39;00m pd\u001b[39m.\u001b[39mdate_range(start_date, end_date, inclusive\u001b[39m=\u001b[39m\u001b[39m\"\u001b[39m\u001b[39mboth\u001b[39m\u001b[39m\"\u001b[39m)\n\u001b[1;32m    314\u001b[0m ]\n\u001b[1;32m    316\u001b[0m \u001b[39mwith\u001b[39;00m ProcessPoolExecutor(max_workers\u001b[39m=\u001b[39mos\u001b[39m.\u001b[39mcpu_count()) \u001b[39mas\u001b[39;00m executor:\n\u001b[1;32m    317\u001b[0m     \u001b[39m# Map each URL to a fetch function with a session\u001b[39;00m\n\u001b[0;32m--> 318\u001b[0m     results \u001b[39m=\u001b[39m executor\u001b[39m.\u001b[39mmap(fetch_date_files, date_urls)\n\u001b[1;32m    320\u001b[0m \u001b[39m# Flatten the results\u001b[39;00m\n\u001b[1;32m    321\u001b[0m results \u001b[39m=\u001b[39m [item \u001b[39mfor\u001b[39;00m sublist \u001b[39min\u001b[39;00m results \u001b[39mfor\u001b[39;00m item \u001b[39min\u001b[39;00m sublist]\n",
      "File \u001b[0;32m~/miniconda3/envs/burst_list_creation/lib/python3.9/concurrent/futures/_base.py:637\u001b[0m, in \u001b[0;36mExecutor.__exit__\u001b[0;34m(self, exc_type, exc_val, exc_tb)\u001b[0m\n\u001b[1;32m    636\u001b[0m \u001b[39mdef\u001b[39;00m \u001b[39m__exit__\u001b[39m(\u001b[39mself\u001b[39m, exc_type, exc_val, exc_tb):\n\u001b[0;32m--> 637\u001b[0m     \u001b[39mself\u001b[39;49m\u001b[39m.\u001b[39;49mshutdown(wait\u001b[39m=\u001b[39;49m\u001b[39mTrue\u001b[39;49;00m)\n\u001b[1;32m    638\u001b[0m     \u001b[39mreturn\u001b[39;00m \u001b[39mFalse\u001b[39;00m\n",
      "File \u001b[0;32m~/miniconda3/envs/burst_list_creation/lib/python3.9/concurrent/futures/process.py:767\u001b[0m, in \u001b[0;36mProcessPoolExecutor.shutdown\u001b[0;34m(self, wait, cancel_futures)\u001b[0m\n\u001b[1;32m    764\u001b[0m         \u001b[39mself\u001b[39m\u001b[39m.\u001b[39m_executor_manager_thread_wakeup\u001b[39m.\u001b[39mwakeup()\n\u001b[1;32m    766\u001b[0m \u001b[39mif\u001b[39;00m \u001b[39mself\u001b[39m\u001b[39m.\u001b[39m_executor_manager_thread \u001b[39mis\u001b[39;00m \u001b[39mnot\u001b[39;00m \u001b[39mNone\u001b[39;00m \u001b[39mand\u001b[39;00m wait:\n\u001b[0;32m--> 767\u001b[0m     \u001b[39mself\u001b[39;49m\u001b[39m.\u001b[39;49m_executor_manager_thread\u001b[39m.\u001b[39;49mjoin()\n\u001b[1;32m    768\u001b[0m \u001b[39m# To reduce the risk of opening too many files, remove references to\u001b[39;00m\n\u001b[1;32m    769\u001b[0m \u001b[39m# objects that use file descriptors.\u001b[39;00m\n\u001b[1;32m    770\u001b[0m \u001b[39mself\u001b[39m\u001b[39m.\u001b[39m_executor_manager_thread \u001b[39m=\u001b[39m \u001b[39mNone\u001b[39;00m\n",
      "File \u001b[0;32m~/miniconda3/envs/burst_list_creation/lib/python3.9/threading.py:1060\u001b[0m, in \u001b[0;36mThread.join\u001b[0;34m(self, timeout)\u001b[0m\n\u001b[1;32m   1057\u001b[0m     \u001b[39mraise\u001b[39;00m \u001b[39mRuntimeError\u001b[39;00m(\u001b[39m\"\u001b[39m\u001b[39mcannot join current thread\u001b[39m\u001b[39m\"\u001b[39m)\n\u001b[1;32m   1059\u001b[0m \u001b[39mif\u001b[39;00m timeout \u001b[39mis\u001b[39;00m \u001b[39mNone\u001b[39;00m:\n\u001b[0;32m-> 1060\u001b[0m     \u001b[39mself\u001b[39;49m\u001b[39m.\u001b[39;49m_wait_for_tstate_lock()\n\u001b[1;32m   1061\u001b[0m \u001b[39melse\u001b[39;00m:\n\u001b[1;32m   1062\u001b[0m     \u001b[39m# the behavior of a negative timeout isn't documented, but\u001b[39;00m\n\u001b[1;32m   1063\u001b[0m     \u001b[39m# historically .join(timeout=x) for x<0 has acted as if timeout=0\u001b[39;00m\n\u001b[1;32m   1064\u001b[0m     \u001b[39mself\u001b[39m\u001b[39m.\u001b[39m_wait_for_tstate_lock(timeout\u001b[39m=\u001b[39m\u001b[39mmax\u001b[39m(timeout, \u001b[39m0\u001b[39m))\n",
      "File \u001b[0;32m~/miniconda3/envs/burst_list_creation/lib/python3.9/threading.py:1080\u001b[0m, in \u001b[0;36mThread._wait_for_tstate_lock\u001b[0;34m(self, block, timeout)\u001b[0m\n\u001b[1;32m   1077\u001b[0m     \u001b[39mreturn\u001b[39;00m\n\u001b[1;32m   1079\u001b[0m \u001b[39mtry\u001b[39;00m:\n\u001b[0;32m-> 1080\u001b[0m     \u001b[39mif\u001b[39;00m lock\u001b[39m.\u001b[39;49macquire(block, timeout):\n\u001b[1;32m   1081\u001b[0m         lock\u001b[39m.\u001b[39mrelease()\n\u001b[1;32m   1082\u001b[0m         \u001b[39mself\u001b[39m\u001b[39m.\u001b[39m_stop()\n",
      "\u001b[0;31mKeyboardInterrupt\u001b[0m: "
     ]
    }
   ],
   "source": [
    "while non_burst_generated < burst_generated * 5:\n",
    "    start_datetime = return_random_datetime_between(min_datetime, max_datetime)\n",
    "    # Now we need to check that the start_datetime is not in a burst\n",
    "    non_burst_in_burst_df = burst_list[\n",
    "        (burst_list.datetime_end <= start_datetime)\n",
    "        & (start_datetime <= burst_list.datetime_end)\n",
    "    ]\n",
    "    if not non_burst_in_burst_df.empty:\n",
    "        print(\"Datetime is in a burst, trying again...\")\n",
    "        continue\n",
    "    end_datetime = start_datetime + timedelta(minutes=15)\n",
    "    for instrument in instruments:\n",
    "        dfs = get_ecallisto_data(start_datetime, end_datetime, instrument_name=instrument)\n",
    "        for _, df in dfs.items():\n",
    "            try:\n",
    "                instrument = df.attrs['FULLNAME']\n",
    "                if instrument not in instruments:\n",
    "                    continue\n",
    "                # Resample\n",
    "                df = df.resample(resample_delta).max()\n",
    "                # Maybe keep only good frequencies?\n",
    "                # Background sub?\n",
    "                ## Path to save the image to\n",
    "                # It's FOLDER / instrument / burst type / start_datetime.png\n",
    "                path = os.path.join(FOLDER, instrument, \"0\", start_datetime.strftime('%Y-%m-%d_%H-%M-%S') + '.png')\n",
    "                os.makedirs(os.path.dirname(path), exist_ok=True)\n",
    "                save_image(df.T, path)\n",
    "                break\n",
    "            except Exception as e:\n",
    "                print(e)\n",
    "                print(row['datetime_start'])\n",
    "                print(row['datetime_end'])\n",
    "                print(row['instruments'])\n",
    "                print(instrument)"
   ]
  }
 ],
 "metadata": {
  "kernelspec": {
   "display_name": "burst_list_creation",
   "language": "python",
   "name": "python3"
  },
  "language_info": {
   "codemirror_mode": {
    "name": "ipython",
    "version": 3
   },
   "file_extension": ".py",
   "mimetype": "text/x-python",
   "name": "python",
   "nbconvert_exporter": "python",
   "pygments_lexer": "ipython3",
   "version": "3.9.18"
  }
 },
 "nbformat": 4,
 "nbformat_minor": 2
}
