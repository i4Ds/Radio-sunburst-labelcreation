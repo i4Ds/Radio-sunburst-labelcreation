{
 "cells": [
  {
   "cell_type": "code",
   "execution_count": 2,
   "metadata": {},
   "outputs": [],
   "source": [
    "from database_functions import *\n",
    "from database_utils import *"
   ]
  },
  {
   "cell_type": "code",
   "execution_count": 3,
   "metadata": {},
   "outputs": [],
   "source": [
    "query = timebucket_values_from_database_sql('swiss_landschlacht_63', '2023-01-25 02:30:00', '2023-02-08 03:30:00', timebucket='5m', agg_function='MAX', return_query=True)"
   ]
  },
  {
   "cell_type": "code",
   "execution_count": 4,
   "metadata": {},
   "outputs": [],
   "source": [
    "def run_query(query):\n",
    "    with psycopg2.connect(CONNECTION) as conn:\n",
    "        cursor = conn.cursor()\n",
    "        cursor.execute(query)\n",
    "        tuple_list = cursor.fetchall()\n",
    "        return tuple_list"
   ]
  },
  {
   "cell_type": "code",
   "execution_count": 118,
   "metadata": {},
   "outputs": [],
   "source": [
    "def run_query(query, params=None):\n",
    "    with psycopg2.connect(CONNECTION) as conn:\n",
    "        with conn.cursor() as cursor:\n",
    "            if params:\n",
    "                cursor.execute(query, params)\n",
    "            else:\n",
    "                cursor.execute(query)\n",
    "            if cursor.description:\n",
    "                return cursor.fetchall()\n",
    "            else:\n",
    "                return None"
   ]
  },
  {
   "cell_type": "code",
   "execution_count": 219,
   "metadata": {},
   "outputs": [],
   "source": [
    "def commit_query(query):\n",
    "    with psycopg2.connect(CONNECTION) as conn:\n",
    "        with conn.cursor() as cursor:\n",
    "            cursor.execute(query)\n",
    "            conn.commit()\n",
    "    return  "
   ]
  },
  {
   "cell_type": "code",
   "execution_count": 234,
   "metadata": {},
   "outputs": [],
   "source": [
    "commit_query('DROP FUNCTION IF EXISTS get_column_aggregation(text);')"
   ]
  },
  {
   "cell_type": "code",
   "execution_count": 261,
   "metadata": {},
   "outputs": [],
   "source": [
    "query = \"\"\"\n",
    "CREATE OR REPLACE FUNCTION column_aggregation_query(p_table_name text, p_start_time timestamp, p_end_time timestamp, p_timebucket text, p_agg_function text)\n",
    "RETURNS TABLE (time timestamp, column_name text, value numeric) AS $$\n",
    "DECLARE\n",
    "  columns text[];\n",
    "  col text;\n",
    "  query text;\n",
    "BEGIN\n",
    "  SELECT ARRAY_AGG(column_name::text) INTO columns\n",
    "  FROM information_schema.columns\n",
    "  WHERE table_name = p_table_name\n",
    "    AND column_name <> 'datetime';\n",
    "\n",
    "  query := 'SELECT time_bucket($1, datetime) AS time, ';\n",
    "  FOREACH col IN ARRAY columns LOOP\n",
    "    query := query || 'AVG(\"' || col || '\") AS \"' || col || '\", ';\n",
    "  END LOOP;\n",
    "  query := LEFT(query, LENGTH(query) - 2) || ' FROM ' || p_table_name ||\n",
    "           ' WHERE datetime BETWEEN $2 AND $3 ' ||\n",
    "           ' GROUP BY time ';\n",
    "  query := query || ' ORDER BY time';\n",
    "\n",
    "  EXECUTE query USING p_timebucket, p_start_time, p_end_time;\n",
    "END;\n",
    "$$ LANGUAGE plpgsql;\n",
    "\"\"\""
   ]
  },
  {
   "cell_type": "code",
   "execution_count": 262,
   "metadata": {},
   "outputs": [],
   "source": [
    "query = \"\"\"\n",
    "CREATE OR REPLACE FUNCTION column_aggregation_query(p_table_name text, p_start_time timestamp, p_end_time timestamp, p_timebucket text, p_agg_function text)\n",
    "RETURNS text AS $$\n",
    "DECLARE\n",
    "  columns text[];\n",
    "  col text;\n",
    "  query_text text;\n",
    "BEGIN\n",
    "  SELECT ARRAY_AGG(column_name::text) INTO columns\n",
    "  FROM information_schema.columns\n",
    "  WHERE table_name = p_table_name\n",
    "    AND column_name <> 'datetime';\n",
    "\n",
    "  query_text := 'SELECT time_bucket($1, datetime) AS time, ';\n",
    "  FOREACH col IN ARRAY columns LOOP\n",
    "    query_text := query_text || p_agg_function'(\"' || col || '\") AS \"' || col || '\", ';\n",
    "  END LOOP;\n",
    "  query_text := LEFT(query_text, LENGTH(query_text) - 2) || ' FROM ' || p_table_name ||\n",
    "           ' WHERE datetime BETWEEN $2 AND $3 ' ||\n",
    "           ' GROUP BY time ';\n",
    "  query_text := query_text || ' ORDER BY time';\n",
    "\n",
    "  RETURN query_text;\n",
    "END;\n",
    "$$ LANGUAGE plpgsql;\n",
    "\"\"\"\n",
    " \n",
    "\n"
   ]
  },
  {
   "cell_type": "code",
   "execution_count": 259,
   "metadata": {},
   "outputs": [],
   "source": [
    "commit_query(query)"
   ]
  },
  {
   "cell_type": "code",
   "execution_count": 263,
   "metadata": {},
   "outputs": [
    {
     "ename": "UndefinedObject",
     "evalue": "type \"p_agg_function\" does not exist\nLINE 1: query_text := query_text || p_agg_function'(\"' || col || '\")...\n                                    ^\nQUERY:  query_text := query_text || p_agg_function'(\"' || col || '\") AS \"' || col || '\", '\nCONTEXT:  PL/pgSQL function column_aggregation_query(text,timestamp without time zone,timestamp without time zone,text,text) line 14 at assignment\n",
     "output_type": "error",
     "traceback": [
      "\u001b[0;31m---------------------------------------------------------------------------\u001b[0m",
      "\u001b[0;31mUndefinedObject\u001b[0m                           Traceback (most recent call last)",
      "Cell \u001b[0;32mIn[263], line 1\u001b[0m\n\u001b[0;32m----> 1\u001b[0m run_query(\u001b[39m\"\u001b[39;49m\u001b[39mSELECT column_aggregation_query(\u001b[39;49m\u001b[39m'\u001b[39;49m\u001b[39mswiss_landschlacht_63\u001b[39;49m\u001b[39m'\u001b[39;49m\u001b[39m, \u001b[39;49m\u001b[39m'\u001b[39;49m\u001b[39m2023-01-25 02:30:00\u001b[39;49m\u001b[39m'\u001b[39;49m\u001b[39m, \u001b[39;49m\u001b[39m'\u001b[39;49m\u001b[39m2023-02-08 03:30:00\u001b[39;49m\u001b[39m'\u001b[39;49m\u001b[39m, \u001b[39;49m\u001b[39m'\u001b[39;49m\u001b[39m5m\u001b[39;49m\u001b[39m'\u001b[39;49m\u001b[39m, \u001b[39;49m\u001b[39m'\u001b[39;49m\u001b[39mAVG\u001b[39;49m\u001b[39m'\u001b[39;49m\u001b[39m);\u001b[39;49m\u001b[39m\"\u001b[39;49m)\n",
      "Cell \u001b[0;32mIn[118], line 7\u001b[0m, in \u001b[0;36mrun_query\u001b[0;34m(query, params)\u001b[0m\n\u001b[1;32m      5\u001b[0m     cursor\u001b[39m.\u001b[39mexecute(query, params)\n\u001b[1;32m      6\u001b[0m \u001b[39melse\u001b[39;00m:\n\u001b[0;32m----> 7\u001b[0m     cursor\u001b[39m.\u001b[39;49mexecute(query)\n\u001b[1;32m      8\u001b[0m \u001b[39mif\u001b[39;00m cursor\u001b[39m.\u001b[39mdescription:\n\u001b[1;32m      9\u001b[0m     \u001b[39mreturn\u001b[39;00m cursor\u001b[39m.\u001b[39mfetchall()\n",
      "\u001b[0;31mUndefinedObject\u001b[0m: type \"p_agg_function\" does not exist\nLINE 1: query_text := query_text || p_agg_function'(\"' || col || '\")...\n                                    ^\nQUERY:  query_text := query_text || p_agg_function'(\"' || col || '\") AS \"' || col || '\", '\nCONTEXT:  PL/pgSQL function column_aggregation_query(text,timestamp without time zone,timestamp without time zone,text,text) line 14 at assignment\n"
     ]
    }
   ],
   "source": [
    "run_query(\"SELECT column_aggregation_query('swiss_landschlacht_63', '2023-01-25 02:30:00', '2023-02-08 03:30:00', '5m', 'AVG');\")"
   ]
  },
  {
   "cell_type": "code",
   "execution_count": 39,
   "metadata": {},
   "outputs": [],
   "source": [
    "def get_aggregate_columns(table_name):\n",
    "    query = f'''\n",
    "        SELECT STRING_AGG('AVG(\"'|| column_name || '\") AS \"' || column_name || '\"', ', ' ORDER BY column_name::numeric)\n",
    "        FROM information_schema.columns\n",
    "        WHERE table_name = '{table_name}'\n",
    "          AND column_name NOT IN ('datetime');\n",
    "    '''\n",
    "    return run_query(query)[0][0]\n"
   ]
  },
  {
   "cell_type": "code",
   "execution_count": 40,
   "metadata": {},
   "outputs": [
    {
     "data": {
      "text/plain": [
       "'AVG(\"45.0\") AS \"45.0\", AVG(\"45.5\") AS \"45.5\", AVG(\"46.375\") AS \"46.375\", AVG(\"46.5629997253418\") AS \"46.5629997253418\", AVG(\"47.375\") AS \"47.375\", AVG(\"47.6879997253418\") AS \"47.6879997253418\", AVG(\"48.375\") AS \"48.375\", AVG(\"48.5629997253418\") AS \"48.5629997253418\", AVG(\"49.25\") AS \"49.25\", AVG(\"49.5629997253418\") AS \"49.5629997253418\", AVG(\"50.4379997253418\") AS \"50.4379997253418\", AVG(\"50.6879997253418\") AS \"50.6879997253418\", AVG(\"51.3129997253418\") AS \"51.3129997253418\", AVG(\"51.6879997253418\") AS \"51.6879997253418\", AVG(\"52.3129997253418\") AS \"52.3129997253418\", AVG(\"52.6879997253418\") AS \"52.6879997253418\", AVG(\"53.375\") AS \"53.375\", AVG(\"53.5629997253418\") AS \"53.5629997253418\", AVG(\"54.375\") AS \"54.375\", AVG(\"54.625\") AS \"54.625\", AVG(\"55.4379997253418\") AS \"55.4379997253418\", AVG(\"55.8129997253418\") AS \"55.8129997253418\", AVG(\"56.4379997253418\") AS \"56.4379997253418\", AVG(\"56.5\") AS \"56.5\", AVG(\"57.375\") AS \"57.375\", AVG(\"57.75\") AS \"57.75\", AVG(\"58.4379997253418\") AS \"58.4379997253418\", AVG(\"58.625\") AS \"58.625\", AVG(\"59.4379997253418\") AS \"59.4379997253418\", AVG(\"59.5629997253418\") AS \"59.5629997253418\", AVG(\"60.4379997253418\") AS \"60.4379997253418\", AVG(\"60.6879997253418\") AS \"60.6879997253418\", AVG(\"61.375\") AS \"61.375\", AVG(\"61.625\") AS \"61.625\", AVG(\"62.3129997253418\") AS \"62.3129997253418\", AVG(\"62.625\") AS \"62.625\", AVG(\"63.375\") AS \"63.375\", AVG(\"63.5\") AS \"63.5\", AVG(\"64.375\") AS \"64.375\", AVG(\"64.5\") AS \"64.5\", AVG(\"65.43800354003906\") AS \"65.43800354003906\", AVG(\"65.75\") AS \"65.75\", AVG(\"66.375\") AS \"66.375\", AVG(\"66.625\") AS \"66.625\", AVG(\"67.43800354003906\") AS \"67.43800354003906\", AVG(\"67.56300354003906\") AS \"67.56300354003906\", AVG(\"68.43800354003906\") AS \"68.43800354003906\", AVG(\"68.5\") AS \"68.5\", AVG(\"69.375\") AS \"69.375\", AVG(\"69.75\") AS \"69.75\", AVG(\"70.375\") AS \"70.375\", AVG(\"70.56300354003906\") AS \"70.56300354003906\", AVG(\"71.375\") AS \"71.375\", AVG(\"71.56300354003906\") AS \"71.56300354003906\", AVG(\"72.43800354003906\") AS \"72.43800354003906\", AVG(\"72.68800354003906\") AS \"72.68800354003906\", AVG(\"73.375\") AS \"73.375\", AVG(\"73.625\") AS \"73.625\", AVG(\"74.31300354003906\") AS \"74.31300354003906\", AVG(\"74.75\") AS \"74.75\", AVG(\"75.25\") AS \"75.25\", AVG(\"75.5\") AS \"75.5\", AVG(\"76.43800354003906\") AS \"76.43800354003906\", AVG(\"76.625\") AS \"76.625\", AVG(\"77.25\") AS \"77.25\", AVG(\"77.875\") AS \"77.875\", AVG(\"78.43800354003906\") AS \"78.43800354003906\", AVG(\"78.81300354003906\") AS \"78.81300354003906\", AVG(\"79.125\") AS \"79.125\", AVG(\"79.81300354003906\") AS \"79.81300354003906\", AVG(\"114.43800354003906\") AS \"114.43800354003906\", AVG(\"114.625\") AS \"114.625\", AVG(\"115.5\") AS \"115.5\", AVG(\"115.625\") AS \"115.625\", AVG(\"116.375\") AS \"116.375\", AVG(\"116.875\") AS \"116.875\", AVG(\"117.31300354003906\") AS \"117.31300354003906\", AVG(\"117.75\") AS \"117.75\", AVG(\"118.06300354003906\") AS \"118.06300354003906\", AVG(\"118.75\") AS \"118.75\", AVG(\"119.25\") AS \"119.25\", AVG(\"119.56300354003906\") AS \"119.56300354003906\", AVG(\"120.43800354003906\") AS \"120.43800354003906\", AVG(\"120.625\") AS \"120.625\", AVG(\"121.43800354003906\") AS \"121.43800354003906\", AVG(\"121.625\") AS \"121.625\", AVG(\"122.25\") AS \"122.25\", AVG(\"123.0\") AS \"123.0\", AVG(\"123.06300354003906\") AS \"123.06300354003906\", AVG(\"124.0\") AS \"124.0\", AVG(\"124.125\") AS \"124.125\", AVG(\"124.56300354003906\") AS \"124.56300354003906\", AVG(\"125.5\") AS \"125.5\", AVG(\"125.56300354003906\") AS \"125.56300354003906\", AVG(\"126.25\") AS \"126.25\", AVG(\"126.68800354003906\") AS \"126.68800354003906\", AVG(\"127.06300354003906\") AS \"127.06300354003906\", AVG(\"127.93800354003906\") AS \"127.93800354003906\", AVG(\"128.31300354003906\") AS \"128.31300354003906\", AVG(\"128.68800354003906\") AS \"128.68800354003906\", AVG(\"129.43800354003906\") AS \"129.43800354003906\", AVG(\"130.0\") AS \"130.0\", AVG(\"130.25\") AS \"130.25\", AVG(\"130.81300354003906\") AS \"130.81300354003906\", AVG(\"131.18800354003906\") AS \"131.18800354003906\", AVG(\"131.81300354003906\") AS \"131.81300354003906\", AVG(\"132.43800354003906\") AS \"132.43800354003906\", AVG(\"132.625\") AS \"132.625\", AVG(\"133.5\") AS \"133.5\", AVG(\"133.625\") AS \"133.625\", AVG(\"134.31300354003906\") AS \"134.31300354003906\", AVG(\"134.81300354003906\") AS \"134.81300354003906\", AVG(\"135.31300354003906\") AS \"135.31300354003906\", AVG(\"135.68800354003906\") AS \"135.68800354003906\", AVG(\"136.5\") AS \"136.5\", AVG(\"136.875\") AS \"136.875\", AVG(\"137.5\") AS \"137.5\", AVG(\"138.0\") AS \"138.0\", AVG(\"138.06300354003906\") AS \"138.06300354003906\", AVG(\"138.93800354003906\") AS \"138.93800354003906\", AVG(\"139.18800354003906\") AS \"139.18800354003906\", AVG(\"139.875\") AS \"139.875\", AVG(\"140.375\") AS \"140.375\", AVG(\"140.68800354003906\") AS \"140.68800354003906\", AVG(\"141.06300354003906\") AS \"141.06300354003906\", AVG(\"141.625\") AS \"141.625\", AVG(\"142.375\") AS \"142.375\", AVG(\"142.81300354003906\") AS \"142.81300354003906\", AVG(\"143.125\") AS \"143.125\", AVG(\"143.56300354003906\") AS \"143.56300354003906\", AVG(\"144.43800354003906\") AS \"144.43800354003906\", AVG(\"144.56300354003906\") AS \"144.56300354003906\", AVG(\"145.375\") AS \"145.375\", AVG(\"145.56300354003906\") AS \"145.56300354003906\", AVG(\"146.25\") AS \"146.25\", AVG(\"146.68800354003906\") AS \"146.68800354003906\", AVG(\"147.375\") AS \"147.375\", AVG(\"147.75\") AS \"147.75\", AVG(\"148.18800354003906\") AS \"148.18800354003906\", AVG(\"148.81300354003906\") AS \"148.81300354003906\", AVG(\"149.18800354003906\") AS \"149.18800354003906\", AVG(\"149.625\") AS \"149.625\", AVG(\"150.375\") AS \"150.375\", AVG(\"150.56300354003906\") AS \"150.56300354003906\", AVG(\"151.43800354003906\") AS \"151.43800354003906\", AVG(\"151.81300354003906\") AS \"151.81300354003906\", AVG(\"152.5\") AS \"152.5\", AVG(\"152.68800354003906\") AS \"152.68800354003906\", AVG(\"153.06300354003906\") AS \"153.06300354003906\", AVG(\"154.0\") AS \"154.0\", AVG(\"154.125\") AS \"154.125\", AVG(\"154.68800354003906\") AS \"154.68800354003906\", AVG(\"155.375\") AS \"155.375\", AVG(\"155.75\") AS \"155.75\", AVG(\"156.5\") AS \"156.5\", AVG(\"156.68800354003906\") AS \"156.68800354003906\", AVG(\"157.5\") AS \"157.5\", AVG(\"158.0\") AS \"158.0\", AVG(\"158.375\") AS \"158.375\", AVG(\"158.68800354003906\") AS \"158.68800354003906\", AVG(\"159.06300354003906\") AS \"159.06300354003906\", AVG(\"159.56300354003906\") AS \"159.56300354003906\", AVG(\"160.25\") AS \"160.25\", AVG(\"161.0\") AS \"161.0\", AVG(\"161.125\") AS \"161.125\", AVG(\"161.93800354003906\") AS \"161.93800354003906\", AVG(\"162.06300354003906\") AS \"162.06300354003906\", AVG(\"162.93800354003906\") AS \"162.93800354003906\", AVG(\"163.125\") AS \"163.125\", AVG(\"163.68800354003906\") AS \"163.68800354003906\", AVG(\"164.43800354003906\") AS \"164.43800354003906\", AVG(\"164.875\") AS \"164.875\", AVG(\"165.5\") AS \"165.5\", AVG(\"165.56300354003906\") AS \"165.56300354003906\", AVG(\"166.18800354003906\") AS \"166.18800354003906\", AVG(\"166.93800354003906\") AS \"166.93800354003906\", AVG(\"167.43800354003906\") AS \"167.43800354003906\", AVG(\"167.75\") AS \"167.75\", AVG(\"168.5\") AS \"168.5\", AVG(\"169.0\") AS \"169.0\", AVG(\"169.5\") AS \"169.5\", AVG(\"169.93800354003906\") AS \"169.93800354003906\", AVG(\"170.375\") AS \"170.375\", AVG(\"170.56300354003906\") AS \"170.56300354003906\", AVG(\"171.125\") AS \"171.125\", AVG(\"171.75\") AS \"171.75\", AVG(\"172.125\") AS \"172.125\", AVG(\"172.56300354003906\") AS \"172.56300354003906\", AVG(\"173.43800354003906\") AS \"173.43800354003906\", AVG(\"173.56300354003906\") AS \"173.56300354003906\", AVG(\"174.25\") AS \"174.25\", AVG(\"174.56300354003906\") AS \"174.56300354003906\"'"
      ]
     },
     "execution_count": 40,
     "metadata": {},
     "output_type": "execute_result"
    }
   ],
   "source": [
    "get_aggregate_columns('swiss_landschlacht_63')"
   ]
  },
  {
   "cell_type": "code",
   "execution_count": 1,
   "metadata": {},
   "outputs": [
    {
     "ename": "NameError",
     "evalue": "name 'get_aggregate_columns' is not defined",
     "output_type": "error",
     "traceback": [
      "\u001b[0;31m---------------------------------------------------------------------------\u001b[0m",
      "\u001b[0;31mNameError\u001b[0m                                 Traceback (most recent call last)",
      "Cell \u001b[0;32mIn[1], line 1\u001b[0m\n\u001b[0;32m----> 1\u001b[0m get_aggregate_columns(\u001b[39m'\u001b[39m\u001b[39mswiss_landschlacht_63\u001b[39m\u001b[39m'\u001b[39m)\n",
      "\u001b[0;31mNameError\u001b[0m: name 'get_aggregate_columns' is not defined"
     ]
    }
   ],
   "source": [
    "get_aggregate_columns('swiss_landschlacht_63')"
   ]
  },
  {
   "cell_type": "code",
   "execution_count": 73,
   "metadata": {},
   "outputs": [
    {
     "ename": "ProgrammingError",
     "evalue": "no results to fetch",
     "output_type": "error",
     "traceback": [
      "\u001b[0;31m---------------------------------------------------------------------------\u001b[0m",
      "\u001b[0;31mProgrammingError\u001b[0m                          Traceback (most recent call last)",
      "Cell \u001b[0;32mIn[73], line 1\u001b[0m\n\u001b[0;32m----> 1\u001b[0m run_query(query)\n",
      "Cell \u001b[0;32mIn[49], line 7\u001b[0m, in \u001b[0;36mrun_query\u001b[0;34m(query)\u001b[0m\n\u001b[1;32m      4\u001b[0m \u001b[39m# construct the dynamic SQL statement\u001b[39;00m\n\u001b[1;32m      5\u001b[0m \u001b[39m# execute the dynamic SQL statement\u001b[39;00m\n\u001b[1;32m      6\u001b[0m cursor\u001b[39m.\u001b[39mexecute(query)\n\u001b[0;32m----> 7\u001b[0m tuple_list \u001b[39m=\u001b[39m cursor\u001b[39m.\u001b[39mfetchall()\n\u001b[1;32m      8\u001b[0m \u001b[39mreturn\u001b[39;00m tuple_list\n",
      "\u001b[0;31mProgrammingError\u001b[0m: no results to fetch"
     ]
    }
   ],
   "source": [
    "run_query(query)"
   ]
  },
  {
   "cell_type": "code",
   "execution_count": 76,
   "metadata": {},
   "outputs": [],
   "source": [
    "query = \"\"\"SELECT * FROM get_aggregate_columns('swiss_landschlacht_63');\"\"\""
   ]
  },
  {
   "cell_type": "code",
   "execution_count": 77,
   "metadata": {},
   "outputs": [
    {
     "ename": "AmbiguousColumn",
     "evalue": "column reference \"table_name\" is ambiguous\nLINE 19:         WHERE table_name = 'swiss_landschlacht_63'\n                       ^\nDETAIL:  It could refer to either a PL/pgSQL variable or a table column.\nQUERY:  SELECT STRING_AGG(agg_function || '(' || column_name || ')', ', ')\n                    FROM (\n        SELECT column_name,\n               CASE\n                   WHEN data_type = 'integer' THEN 'avg'\n                   WHEN data_type = 'numeric' THEN 'avg'\n                   WHEN data_type = 'double precision' THEN 'avg'\n                   WHEN data_type = 'bigint' THEN 'avg'\n                   WHEN data_type = 'smallint' THEN 'avg'\n                   WHEN data_type = 'real' THEN 'avg'\n                   WHEN data_type = 'timestamp without time zone' THEN 'avg'\n                   WHEN data_type = 'timestamp with time zone' THEN 'avg'\n                   WHEN data_type = 'date' THEN 'avg'\n                   WHEN data_type = 'time without time zone' THEN 'avg'\n                   WHEN data_type = 'time with time zone' THEN 'avg'\n                   ELSE NULL\n               END AS agg_function\n        FROM information_schema.columns\n        WHERE table_name = 'swiss_landschlacht_63'\n    ) t\n    WHERE agg_function IS NOT NULL\nCONTEXT:  PL/pgSQL function get_aggregate_columns(text) line 5 at SQL statement\n",
     "output_type": "error",
     "traceback": [
      "\u001b[0;31m---------------------------------------------------------------------------\u001b[0m",
      "\u001b[0;31mAmbiguousColumn\u001b[0m                           Traceback (most recent call last)",
      "Cell \u001b[0;32mIn[77], line 1\u001b[0m\n\u001b[0;32m----> 1\u001b[0m run_query(query)\n",
      "Cell \u001b[0;32mIn[49], line 6\u001b[0m, in \u001b[0;36mrun_query\u001b[0;34m(query)\u001b[0m\n\u001b[1;32m      3\u001b[0m cursor \u001b[39m=\u001b[39m conn\u001b[39m.\u001b[39mcursor()\n\u001b[1;32m      4\u001b[0m \u001b[39m# construct the dynamic SQL statement\u001b[39;00m\n\u001b[1;32m      5\u001b[0m \u001b[39m# execute the dynamic SQL statement\u001b[39;00m\n\u001b[0;32m----> 6\u001b[0m cursor\u001b[39m.\u001b[39;49mexecute(query)\n\u001b[1;32m      7\u001b[0m tuple_list \u001b[39m=\u001b[39m cursor\u001b[39m.\u001b[39mfetchall()\n\u001b[1;32m      8\u001b[0m \u001b[39mreturn\u001b[39;00m tuple_list\n",
      "\u001b[0;31mAmbiguousColumn\u001b[0m: column reference \"table_name\" is ambiguous\nLINE 19:         WHERE table_name = 'swiss_landschlacht_63'\n                       ^\nDETAIL:  It could refer to either a PL/pgSQL variable or a table column.\nQUERY:  SELECT STRING_AGG(agg_function || '(' || column_name || ')', ', ')\n                    FROM (\n        SELECT column_name,\n               CASE\n                   WHEN data_type = 'integer' THEN 'avg'\n                   WHEN data_type = 'numeric' THEN 'avg'\n                   WHEN data_type = 'double precision' THEN 'avg'\n                   WHEN data_type = 'bigint' THEN 'avg'\n                   WHEN data_type = 'smallint' THEN 'avg'\n                   WHEN data_type = 'real' THEN 'avg'\n                   WHEN data_type = 'timestamp without time zone' THEN 'avg'\n                   WHEN data_type = 'timestamp with time zone' THEN 'avg'\n                   WHEN data_type = 'date' THEN 'avg'\n                   WHEN data_type = 'time without time zone' THEN 'avg'\n                   WHEN data_type = 'time with time zone' THEN 'avg'\n                   ELSE NULL\n               END AS agg_function\n        FROM information_schema.columns\n        WHERE table_name = 'swiss_landschlacht_63'\n    ) t\n    WHERE agg_function IS NOT NULL\nCONTEXT:  PL/pgSQL function get_aggregate_columns(text) line 5 at SQL statement\n"
     ]
    }
   ],
   "source": [
    "run_query(query)"
   ]
  },
  {
   "cell_type": "code",
   "execution_count": 5,
   "metadata": {},
   "outputs": [
    {
     "data": {
      "text/plain": [
       "['malaysia_banting_01',\n",
       " 'india_ooty_02',\n",
       " 'ssrt_59',\n",
       " 'roswell_nm_57',\n",
       " 'poland_grotniki_03',\n",
       " 'egypt_alexandria_01',\n",
       " 'usa_arizona_erau_01',\n",
       " 'spain_siguenza_02',\n",
       " 'mexico_lance_a_63',\n",
       " 'germany_dlr_62',\n",
       " 'mexico_lance_b_62',\n",
       " 'egypt_alexandria_02',\n",
       " 'australia_lmro_59',\n",
       " 'india_gauri_59',\n",
       " 'australia_assa_60',\n",
       " 'romania_01',\n",
       " 'almaty_58',\n",
       " 'swiss_hb9sct_01',\n",
       " 'bir_01',\n",
       " 'alaska_haarp_62',\n",
       " 'glasgow_01',\n",
       " 'mrt1_02',\n",
       " 'alaska_cohoe_63',\n",
       " 'alaska_cohoe_62',\n",
       " 'arecibo_observatory_62',\n",
       " 'australia_assa_63',\n",
       " 'norway_ny_aalesund_01',\n",
       " 'germany_dlr_63',\n",
       " 'humain_59',\n",
       " 'germany_dlr_01',\n",
       " 'india_ooty_01',\n",
       " 'spain_peralejos_03',\n",
       " 'mongolia_ub_01',\n",
       " 'austria_oe3flb_55',\n",
       " 'triest_60',\n",
       " 'swiss_irsol_01',\n",
       " 'spain_peralejos_62',\n",
       " 'mro_62',\n",
       " 'alaska_haarp_63',\n",
       " 'roswell_nm_59',\n",
       " 'triest_59',\n",
       " 'spain_peralejos_63',\n",
       " 'algeria_craag_59',\n",
       " 'japan_ibaraki_59',\n",
       " 'swiss_muhen_62',\n",
       " 'mrt3_03',\n",
       " 'norway_egersund_01',\n",
       " 'roswell_nm_58',\n",
       " 'mro_59',\n",
       " 'austria_oe3flb_57',\n",
       " 'alaska_anchorage_01',\n",
       " 'hurbanovo_59',\n",
       " 'norway_randaberg_01',\n",
       " 'arecibo_observatory_63',\n",
       " 'swiss_landschlacht_63',\n",
       " 'mro_60',\n",
       " 'mro_61',\n",
       " 'mrt3_02',\n",
       " 'australia_assa_62',\n",
       " 'uruguay_02',\n",
       " 'kasi_59',\n",
       " 'mexart_59',\n",
       " 'almaty_59',\n",
       " 'unam_59',\n",
       " 'india_udaipur_01',\n",
       " 'southafrica_sansa_01',\n",
       " 'indonesia_59',\n",
       " 'triest_57',\n",
       " 'paraguay_01',\n",
       " 'swiss_landschlacht_62',\n",
       " 'austria_unigraz_01',\n",
       " 'swiss_muhen_63',\n",
       " 'mrt1_03',\n",
       " 'sri_lanka_59',\n",
       " 'swiss_muhen_03',\n",
       " 'austria_unigraz_02']"
      ]
     },
     "execution_count": 5,
     "metadata": {},
     "output_type": "execute_result"
    }
   ],
   "source": [
    "get_table_names_sql()"
   ]
  },
  {
   "cell_type": "code",
   "execution_count": null,
   "metadata": {},
   "outputs": [],
   "source": []
  }
 ],
 "metadata": {
  "kernelspec": {
   "display_name": "sunflare_prediction",
   "language": "python",
   "name": "python3"
  },
  "language_info": {
   "codemirror_mode": {
    "name": "ipython",
    "version": 3
   },
   "file_extension": ".py",
   "mimetype": "text/x-python",
   "name": "python",
   "nbconvert_exporter": "python",
   "pygments_lexer": "ipython3",
   "version": "3.9.16"
  },
  "orig_nbformat": 4,
  "vscode": {
   "interpreter": {
    "hash": "75b4b533ce743184e2e2cd8cec81140adf5f35d71c59667a5fcd80c861828eff"
   }
  }
 },
 "nbformat": 4,
 "nbformat_minor": 2
}
