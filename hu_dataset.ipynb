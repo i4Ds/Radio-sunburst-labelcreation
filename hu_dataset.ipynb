{
 "cells": [
  {
   "cell_type": "code",
   "execution_count": 8,
   "metadata": {},
   "outputs": [],
   "source": [
    "import pandas as pd\n",
    "import glob\n",
    "from sklearn.model_selection import train_test_split\n",
    "from datasets import Dataset"
   ]
  },
  {
   "cell_type": "code",
   "execution_count": 105,
   "metadata": {},
   "outputs": [],
   "source": [
    "images = glob.glob('/mnt/nas05/data01/vincenzo/ecallisto/data/*/*/*/*.png')"
   ]
  },
  {
   "cell_type": "code",
   "execution_count": 106,
   "metadata": {},
   "outputs": [],
   "source": [
    "df = pd.DataFrame()"
   ]
  },
  {
   "cell_type": "code",
   "execution_count": 108,
   "metadata": {},
   "outputs": [],
   "source": [
    "df['file_name'] = images\n",
    "df['label'] = df['file_name'].str.split('/', expand=True)[9].astype(str)\n",
    "df['antenna'] = df['file_name'].str.split('/', expand=True)[8].astype(str)\n",
    "df['datetime'] = df['file_name'].str.split('/', expand=True)[10].str.replace('.png', '')\n",
    "df['file_name'] = df['file_name'].str.replace('/mnt/nas05/data01/vincenzo/ecallisto/data/', '').astype(str)\n",
    "df['datetime'] = pd.to_datetime(df['datetime'], format='%Y-%m-%d_%H-%M-%S')#.astype('int64') // 10**9"
   ]
  },
  {
   "cell_type": "code",
   "execution_count": 119,
   "metadata": {},
   "outputs": [
    {
     "name": "stderr",
     "output_type": "stream",
     "text": [
      "/tmp/ipykernel_1707095/2757098019.py:2: SettingWithCopyWarning: \n",
      "A value is trying to be set on a copy of a slice from a DataFrame.\n",
      "Try using .loc[row_indexer,col_indexer] = value instead\n",
      "\n",
      "See the caveats in the documentation: https://pandas.pydata.org/pandas-docs/stable/user_guide/indexing.html#returning-a-view-versus-a-copy\n",
      "  train['file_name'] = train['file_name'].str.replace('train/', '').astype(str)\n",
      "/tmp/ipykernel_1707095/2757098019.py:3: SettingWithCopyWarning: \n",
      "A value is trying to be set on a copy of a slice from a DataFrame.\n",
      "Try using .loc[row_indexer,col_indexer] = value instead\n",
      "\n",
      "See the caveats in the documentation: https://pandas.pydata.org/pandas-docs/stable/user_guide/indexing.html#returning-a-view-versus-a-copy\n",
      "  val['file_name'] = val['file_name'].str.replace('valid/', '').astype(str)\n",
      "/tmp/ipykernel_1707095/2757098019.py:4: SettingWithCopyWarning: \n",
      "A value is trying to be set on a copy of a slice from a DataFrame.\n",
      "Try using .loc[row_indexer,col_indexer] = value instead\n",
      "\n",
      "See the caveats in the documentation: https://pandas.pydata.org/pandas-docs/stable/user_guide/indexing.html#returning-a-view-versus-a-copy\n",
      "  test['file_name'] = test['file_name'].str.replace('test/', '').astype(str)\n"
     ]
    }
   ],
   "source": [
    "train, val, test = df[df['file_name'].str.contains('train')],  df[df['file_name'].str.contains('valid')],  df[df['file_name'].str.contains('test')]\n",
    "train['file_name'] = train['file_name'].str.replace('train/', '').astype(str)\n",
    "val['file_name'] = val['file_name'].str.replace('valid/', '').astype(str)\n",
    "test['file_name'] = test['file_name'].str.replace('test/', '').astype(str)"
   ]
  },
  {
   "cell_type": "code",
   "execution_count": 121,
   "metadata": {},
   "outputs": [],
   "source": [
    "train.to_csv('/mnt/nas05/data01/vincenzo/ecallisto/data/train/metadata.csv', index=False)\n",
    "test.to_csv('/mnt/nas05/data01/vincenzo/ecallisto/data/test/metadata.csv', index=False)\n",
    "val.to_csv('/mnt/nas05/data01/vincenzo/ecallisto/data/valid/metadata.csv', index=False)"
   ]
  },
  {
   "cell_type": "code",
   "execution_count": 141,
   "metadata": {},
   "outputs": [
    {
     "data": {
      "text/plain": [
       "DatasetDict({\n",
       "    train: Dataset({\n",
       "        features: ['image', 'label', 'antenna', 'datetime'],\n",
       "        num_rows: 9010\n",
       "    })\n",
       "})"
      ]
     },
     "execution_count": 141,
     "metadata": {},
     "output_type": "execute_result"
    }
   ],
   "source": [
    "test"
   ]
  },
  {
   "cell_type": "code",
   "execution_count": null,
   "metadata": {},
   "outputs": [],
   "source": [
    "# EDA\n",
    "import matplotlib.pyplot as plt\n",
    "# Number of images per antenna\n",
    "images_per_antenna = test['antenna'].value_counts()\n",
    "\n",
    "# Number of burst types per antenna\n",
    "burst_types_per_antenna = test.groupby('antenna')['label'].value_counts().unstack(fill_value=0)\n",
    "\n",
    "# Date range per antenna\n",
    "date_range_per_antenna = test.groupby('antenna')['datetime'].agg([min, max])\n",
    "\n",
    "# Plotting\n",
    "fig, ax = plt.subplots(2, 1, figsize=(10, 15))\n",
    "\n",
    "# Images per antenna\n",
    "images_per_antenna.plot(kind='bar', ax=ax[0], color='skyblue')\n",
    "ax[0].set_title('Number of Images per Antenna')\n",
    "ax[0].set_xlabel('Antenna')\n",
    "ax[0].set_ylabel('Number of Images')\n",
    "\n",
    "# Burst types per antenna\n",
    "burst_types_per_antenna.plot(kind='bar', stacked=True, ax=ax[1])\n",
    "ax[1].set_title('Burst Types per Antenna')\n",
    "ax[1].set_xlabel('Antenna')\n",
    "ax[1].set_ylabel('Count')\n",
    "\n",
    "plt.tight_layout()\n",
    "plt.show()"
   ]
  },
  {
   "cell_type": "code",
   "execution_count": 123,
   "metadata": {},
   "outputs": [
    {
     "name": "stderr",
     "output_type": "stream",
     "text": [
      "Generating train split: 9010 examples [00:04, 1824.83 examples/s]\n",
      "Generating train split: 9010 examples [00:04, 1829.75 examples/s]\n",
      "Computing checksums: 100%|██████████| 72124/72124 [01:28<00:00, 818.91it/s]\n",
      "Generating train split: 72123 examples [00:42, 1696.27 examples/s]\n"
     ]
    }
   ],
   "source": [
    "from datasets import load_dataset\n",
    "test = load_dataset('imagefolder', data_dir='/mnt/nas05/data01/vincenzo/ecallisto/data/test')\n",
    "valid = load_dataset('imagefolder', data_dir='/mnt/nas05/data01/vincenzo/ecallisto/data/valid')\n",
    "train = load_dataset('imagefolder', data_dir='/mnt/nas05/data01/vincenzo/ecallisto/data/train')"
   ]
  },
  {
   "cell_type": "code",
   "execution_count": 134,
   "metadata": {},
   "outputs": [],
   "source": [
    "from datasets import DatasetDict\n",
    "dd = DatasetDict({\"train\": train['train'],\"validation\": valid['train'], \"test\":test['train']})"
   ]
  },
  {
   "cell_type": "code",
   "execution_count": 139,
   "metadata": {},
   "outputs": [
    {
     "name": "stderr",
     "output_type": "stream",
     "text": [
      "Map: 100%|██████████| 36062/36062 [01:34<00:00, 380.60 examples/s]]\n",
      "Creating parquet from Arrow format: 100%|██████████| 361/361 [00:00<00:00, 581.22ba/s]\n",
      "Map: 100%|██████████| 36061/36061 [02:30<00:00, 240.07 examples/s]18.34s/it]\n",
      "Creating parquet from Arrow format: 100%|██████████| 361/361 [00:00<00:00, 584.48ba/s]\n",
      "Uploading the dataset shards: 100%|██████████| 2/2 [04:47<00:00, 143.71s/it]\n",
      "Map: 100%|██████████| 9010/9010 [00:37<00:00, 240.03 examples/s]/s]\n",
      "Creating parquet from Arrow format: 100%|██████████| 91/91 [00:00<00:00, 444.77ba/s]\n",
      "Uploading the dataset shards: 100%|██████████| 1/1 [00:42<00:00, 42.60s/it]\n",
      "Map: 100%|██████████| 9010/9010 [00:37<00:00, 240.99 examples/s]/s]\n",
      "Creating parquet from Arrow format: 100%|██████████| 91/91 [00:00<00:00, 499.73ba/s]\n",
      "Uploading the dataset shards: 100%|██████████| 1/1 [00:43<00:00, 43.25s/it]\n"
     ]
    },
    {
     "data": {
      "text/plain": [
       "CommitInfo(commit_url='https://huggingface.co/datasets/i4ds/radio-sunburst-ecallisto/commit/eb681e93a33694c0063413948282162926537383', commit_message='Upload dataset', commit_description='', oid='eb681e93a33694c0063413948282162926537383', pr_url=None, pr_revision=None, pr_num=None)"
      ]
     },
     "execution_count": 139,
     "metadata": {},
     "output_type": "execute_result"
    }
   ],
   "source": [
    "dd.push_to_hub('i4ds/radio-sunburst-ecallisto')"
   ]
  },
  {
   "cell_type": "code",
   "execution_count": null,
   "metadata": {},
   "outputs": [],
   "source": [
    "# Display the image\n",
    "plt.imshow(dd['train']['image'][300], cmap='gray')  # 'gray' colormap for mode=L (grayscale)\n",
    "plt.title(f\"Antenna: {dd['train']['antenna'][300]} | Datetime: {dd['train']['datetime'][300]} | Label: {dd['train']['label'][300]}\")\n",
    "plt.axis('off')  # Turn off the axis\n",
    "plt.show()"
   ]
  }
 ],
 "metadata": {
  "kernelspec": {
   "display_name": "radio_sunburst_data_creation",
   "language": "python",
   "name": "python3"
  },
  "language_info": {
   "codemirror_mode": {
    "name": "ipython",
    "version": 3
   },
   "file_extension": ".py",
   "mimetype": "text/x-python",
   "name": "python",
   "nbconvert_exporter": "python",
   "pygments_lexer": "ipython3",
   "version": "3.10.13"
  }
 },
 "nbformat": 4,
 "nbformat_minor": 2
}
